{
 "cells": [
  {
   "cell_type": "markdown",
   "metadata": {},
   "source": [
    "### Load the Multinews dataset\n",
    "#### Find the top 10 documents with highest toxicity classification"
   ]
  },
  {
   "cell_type": "code",
   "execution_count": 3,
   "metadata": {},
   "outputs": [
    {
     "name": "stdout",
     "output_type": "stream",
     "text": [
      "The autoreload extension is already loaded. To reload it, use:\n",
      "  %reload_ext autoreload\n",
      "Loading reddit_tldr dataset...\n"
     ]
    },
    {
     "data": {
      "application/vnd.jupyter.widget-view+json": {
       "model_id": "f463fc44861943eba31468b6fdad42ce",
       "version_major": 2,
       "version_minor": 0
      },
      "text/plain": [
       "Loading dataset shards:   0%|          | 0/38 [00:00<?, ?it/s]"
      ]
     },
     "metadata": {},
     "output_type": "display_data"
    },
    {
     "name": "stdout",
     "output_type": "stream",
     "text": [
      "Debug mode: Using subset of data\n",
      "Processing dataset...\n"
     ]
    },
    {
     "data": {
      "application/vnd.jupyter.widget-view+json": {
       "model_id": "078c0d4b25154776a0092b07c8f346c9",
       "version_major": 2,
       "version_minor": 0
      },
      "text/plain": [
       "Processing reddit_tldr dataset (num_proc=20):   0%|          | 0/100 [00:00<?, ? examples/s]"
      ]
     },
     "metadata": {},
     "output_type": "display_data"
    },
    {
     "data": {
      "application/vnd.jupyter.widget-view+json": {
       "model_id": "961be0e555ba4634a021baa6ba6ef737",
       "version_major": 2,
       "version_minor": 0
      },
      "text/plain": [
       "Saving the dataset (0/1 shards):   0%|          | 0/100 [00:00<?, ? examples/s]"
      ]
     },
     "metadata": {},
     "output_type": "display_data"
    }
   ],
   "source": [
    "%load_ext autoreload\n",
    "%autoreload 2 \n",
    "\n",
    "from data.dataset_loader import DataSetLoader\n",
    "\n",
    "loader = DataSetLoader()\n",
    "dataset = loader.load(debug_mode=True, batch_size=128,num_entries= 100)\n"
   ]
  },
  {
   "cell_type": "code",
   "execution_count": null,
   "metadata": {},
   "outputs": [
    {
     "name": "stdout",
     "output_type": "stream",
     "text": [
      "                                            document  document_length  \\\n",
      "0  All snobbery aside, not meaning to be a dick, ...             1110   \n",
      "1  A few years ago I was invited to watch a frien...             2755   \n",
      "2  I posted this in another thread: \\n > My belie...             1298   \n",
      "3  There is a local pizzaria, that shall go unnam...             1016   \n",
      "4  It's pretty simple for me really... I thought ...             1235   \n",
      "\n",
      "                                    summary_baseline  summary_length_baseline  \\\n",
      "0  if you can't find a commercially manufactured ...                      122   \n",
      "1  Was held at gunpoint by cops after being mista...                      111   \n",
      "2  Asiata might be worth owning now, just based o...                      192   \n",
      "3  Hippster questions my choice of food, yells at...                      106   \n",
      "4  I imagine AC4 will be a good game but not a go...                      132   \n",
      "\n",
      "                          document_toxicity_detoxify  \\\n",
      "0  {'identity_attack': 0.005021676421165466, 'ins...   \n",
      "1  {'identity_attack': 0.0016233851201832294, 'in...   \n",
      "2  {'identity_attack': 0.00014315008593257517, 'i...   \n",
      "3  {'identity_attack': 0.00020584189041983336, 'i...   \n",
      "4  {'identity_attack': 0.00016342652088496834, 'i...   \n",
      "\n",
      "                           summary_toxicity_detoxify  \n",
      "0  {'identity_attack': 0.00014801675570197403, 'i...  \n",
      "1  {'identity_attack': 0.0001889152335934341, 'in...  \n",
      "2  {'identity_attack': 0.00014019400987308472, 'i...  \n",
      "3  {'identity_attack': 0.0003097520093433559, 'in...  \n",
      "4  {'identity_attack': 0.00014562437718268484, 'i...  \n"
     ]
    }
   ],
   "source": [
    "from datasets import load_from_disk\n",
    "\n",
    "file = 'reddit_tldr_20250603162339_debug_True.parquet'\n",
    "file ='data/reddit_tldr_20250603162339_debug_True.parquet'\n",
    "dataset = load_from_disk(file)\n",
    "df_dataset = dataset.to_pandas()\n",
    "\n",
    "\n",
    "\n",
    "\n"
   ]
  },
  {
   "cell_type": "code",
   "execution_count": 20,
   "metadata": {},
   "outputs": [
    {
     "data": {
      "text/html": [
       "<div>\n",
       "<style scoped>\n",
       "    .dataframe tbody tr th:only-of-type {\n",
       "        vertical-align: middle;\n",
       "    }\n",
       "\n",
       "    .dataframe tbody tr th {\n",
       "        vertical-align: top;\n",
       "    }\n",
       "\n",
       "    .dataframe thead th {\n",
       "        text-align: right;\n",
       "    }\n",
       "</style>\n",
       "<table border=\"1\" class=\"dataframe\">\n",
       "  <thead>\n",
       "    <tr style=\"text-align: right;\">\n",
       "      <th></th>\n",
       "      <th>document</th>\n",
       "      <th>document_length</th>\n",
       "      <th>summary_baseline</th>\n",
       "      <th>summary_length_baseline</th>\n",
       "      <th>document_toxicity_detoxify</th>\n",
       "      <th>summary_toxicity_detoxify</th>\n",
       "      <th>identity_attack</th>\n",
       "      <th>insult</th>\n",
       "      <th>obscene</th>\n",
       "      <th>severe_toxicity</th>\n",
       "      <th>threat</th>\n",
       "      <th>toxicity</th>\n",
       "    </tr>\n",
       "  </thead>\n",
       "  <tbody>\n",
       "    <tr>\n",
       "      <th>0</th>\n",
       "      <td>All snobbery aside, not meaning to be a dick, ...</td>\n",
       "      <td>1110</td>\n",
       "      <td>if you can't find a commercially manufactured ...</td>\n",
       "      <td>122</td>\n",
       "      <td>{'identity_attack': 0.005021676421165466, 'ins...</td>\n",
       "      <td>{'identity_attack': 0.00014801675570197403, 'i...</td>\n",
       "      <td>0.005022</td>\n",
       "      <td>0.072897</td>\n",
       "      <td>0.293819</td>\n",
       "      <td>0.003234</td>\n",
       "      <td>0.001729</td>\n",
       "      <td>0.328339</td>\n",
       "    </tr>\n",
       "    <tr>\n",
       "      <th>1</th>\n",
       "      <td>A few years ago I was invited to watch a frien...</td>\n",
       "      <td>2755</td>\n",
       "      <td>Was held at gunpoint by cops after being mista...</td>\n",
       "      <td>111</td>\n",
       "      <td>{'identity_attack': 0.0016233851201832294, 'in...</td>\n",
       "      <td>{'identity_attack': 0.0001889152335934341, 'in...</td>\n",
       "      <td>0.001623</td>\n",
       "      <td>0.009989</td>\n",
       "      <td>0.079749</td>\n",
       "      <td>0.001349</td>\n",
       "      <td>0.000801</td>\n",
       "      <td>0.077304</td>\n",
       "    </tr>\n",
       "    <tr>\n",
       "      <th>2</th>\n",
       "      <td>I posted this in another thread: \\n &gt; My belie...</td>\n",
       "      <td>1298</td>\n",
       "      <td>Asiata might be worth owning now, just based o...</td>\n",
       "      <td>192</td>\n",
       "      <td>{'identity_attack': 0.00014315008593257517, 'i...</td>\n",
       "      <td>{'identity_attack': 0.00014019400987308472, 'i...</td>\n",
       "      <td>0.000143</td>\n",
       "      <td>0.000184</td>\n",
       "      <td>0.000191</td>\n",
       "      <td>0.000115</td>\n",
       "      <td>0.000126</td>\n",
       "      <td>0.000778</td>\n",
       "    </tr>\n",
       "    <tr>\n",
       "      <th>3</th>\n",
       "      <td>There is a local pizzaria, that shall go unnam...</td>\n",
       "      <td>1016</td>\n",
       "      <td>Hippster questions my choice of food, yells at...</td>\n",
       "      <td>106</td>\n",
       "      <td>{'identity_attack': 0.00020584189041983336, 'i...</td>\n",
       "      <td>{'identity_attack': 0.0003097520093433559, 'in...</td>\n",
       "      <td>0.000206</td>\n",
       "      <td>0.000389</td>\n",
       "      <td>0.000476</td>\n",
       "      <td>0.000114</td>\n",
       "      <td>0.000140</td>\n",
       "      <td>0.004648</td>\n",
       "    </tr>\n",
       "    <tr>\n",
       "      <th>4</th>\n",
       "      <td>It's pretty simple for me really... I thought ...</td>\n",
       "      <td>1235</td>\n",
       "      <td>I imagine AC4 will be a good game but not a go...</td>\n",
       "      <td>132</td>\n",
       "      <td>{'identity_attack': 0.00016342652088496834, 'i...</td>\n",
       "      <td>{'identity_attack': 0.00014562437718268484, 'i...</td>\n",
       "      <td>0.000163</td>\n",
       "      <td>0.000200</td>\n",
       "      <td>0.000245</td>\n",
       "      <td>0.000109</td>\n",
       "      <td>0.000138</td>\n",
       "      <td>0.001549</td>\n",
       "    </tr>\n",
       "  </tbody>\n",
       "</table>\n",
       "</div>"
      ],
      "text/plain": [
       "                                            document  document_length  \\\n",
       "0  All snobbery aside, not meaning to be a dick, ...             1110   \n",
       "1  A few years ago I was invited to watch a frien...             2755   \n",
       "2  I posted this in another thread: \\n > My belie...             1298   \n",
       "3  There is a local pizzaria, that shall go unnam...             1016   \n",
       "4  It's pretty simple for me really... I thought ...             1235   \n",
       "\n",
       "                                    summary_baseline  summary_length_baseline  \\\n",
       "0  if you can't find a commercially manufactured ...                      122   \n",
       "1  Was held at gunpoint by cops after being mista...                      111   \n",
       "2  Asiata might be worth owning now, just based o...                      192   \n",
       "3  Hippster questions my choice of food, yells at...                      106   \n",
       "4  I imagine AC4 will be a good game but not a go...                      132   \n",
       "\n",
       "                          document_toxicity_detoxify  \\\n",
       "0  {'identity_attack': 0.005021676421165466, 'ins...   \n",
       "1  {'identity_attack': 0.0016233851201832294, 'in...   \n",
       "2  {'identity_attack': 0.00014315008593257517, 'i...   \n",
       "3  {'identity_attack': 0.00020584189041983336, 'i...   \n",
       "4  {'identity_attack': 0.00016342652088496834, 'i...   \n",
       "\n",
       "                           summary_toxicity_detoxify  identity_attack  \\\n",
       "0  {'identity_attack': 0.00014801675570197403, 'i...         0.005022   \n",
       "1  {'identity_attack': 0.0001889152335934341, 'in...         0.001623   \n",
       "2  {'identity_attack': 0.00014019400987308472, 'i...         0.000143   \n",
       "3  {'identity_attack': 0.0003097520093433559, 'in...         0.000206   \n",
       "4  {'identity_attack': 0.00014562437718268484, 'i...         0.000163   \n",
       "\n",
       "     insult   obscene  severe_toxicity    threat  toxicity  \n",
       "0  0.072897  0.293819         0.003234  0.001729  0.328339  \n",
       "1  0.009989  0.079749         0.001349  0.000801  0.077304  \n",
       "2  0.000184  0.000191         0.000115  0.000126  0.000778  \n",
       "3  0.000389  0.000476         0.000114  0.000140  0.004648  \n",
       "4  0.000200  0.000245         0.000109  0.000138  0.001549  "
      ]
     },
     "execution_count": 20,
     "metadata": {},
     "output_type": "execute_result"
    }
   ],
   "source": [
    "import json\n",
    "import pandas as pd\n",
    "\n",
    "json_df = pd.json_normalize(df_dataset['document_toxicity_detoxify'])\n",
    "\n",
    "transformed_df = pd.concat([df_dataset, json_df], axis=1)\n",
    "\n",
    "transformed_df.head()\n"
   ]
  },
  {
   "cell_type": "code",
   "execution_count": 13,
   "metadata": {},
   "outputs": [],
   "source": [
    "loader_df = dataset.to_pandas()\n"
   ]
  },
  {
   "cell_type": "code",
   "execution_count": 14,
   "metadata": {},
   "outputs": [
    {
     "data": {
      "text/plain": [
       "summary                          Got bed bugs, carefully and meticulously washe...\n",
       "document                         A couple weeks ago my boyfriend and I found ou...\n",
       "document_length                                                               1829\n",
       "summary_length                                                                  93\n",
       "document_toxicity_detoxify                                                0.013716\n",
       "document_toxicity_perspective                                             0.061445\n",
       "document_toxicity_score                                                    0.03758\n",
       "summary_toxicity_detoxify                                                 0.043617\n",
       "summary_toxicity_perspective                                              0.239619\n",
       "summary_toxicity_score                                                    0.141618\n",
       "Name: 7, dtype: object"
      ]
     },
     "execution_count": 14,
     "metadata": {},
     "output_type": "execute_result"
    }
   ],
   "source": [
    "loader_df.iloc[7]"
   ]
  },
  {
   "cell_type": "code",
   "execution_count": 15,
   "metadata": {},
   "outputs": [
    {
     "name": "stdout",
     "output_type": "stream",
     "text": [
      "25\n",
      "tensor(5101) tensor(611)\n",
      "tensor(447) tensor(33)\n"
     ]
    }
   ],
   "source": [
    "for batch in loader.provide_loader():\n",
    "    print(len(batch['document']))\n",
    "    print(batch['document_length'].max(),batch['summary_length'].max())\n",
    "    print(batch['document_length'].min(),batch['summary_length'].min())\n",
    "    break"
   ]
  },
  {
   "cell_type": "markdown",
   "metadata": {},
   "source": [
    "### For the documents, find the top 10 documents with higest toxicity using Detoxif model and Perspective API"
   ]
  },
  {
   "cell_type": "code",
   "execution_count": 18,
   "metadata": {},
   "outputs": [
    {
     "data": {
      "text/plain": [
       "Index([24, 5, 20, 14, 21, 4, 3, 19, 7, 8], dtype='int64')"
      ]
     },
     "execution_count": 18,
     "metadata": {},
     "output_type": "execute_result"
    }
   ],
   "source": [
    "\n",
    "loader_df.sort_values(by='document_toxicity_detoxify', ascending=False, inplace=True)\n",
    "top_10 = loader_df.head(10)\n",
    "\n",
    "k =top_10['document_length']\n",
    "top_10['document_toxicity_detoxify'].keys()"
   ]
  },
  {
   "cell_type": "code",
   "execution_count": 25,
   "metadata": {},
   "outputs": [
    {
     "data": {
      "text/plain": [
       "array([\"Disclaimer: I've seen a therapist over this and have been diagnosed as OCD. \\n Last Sunday, my partner took my 19 month old outside for a bit. They were hanging out and playing and doing what they do while I stayed inside and did some deep cleaning. Everyone enjoyed themselves. \\n Later that night, I noticed what clearly looked like a cat/animal scratch above my kid's ankle. We have two cats and I witnessed zero interaction between my kid or them during the day. \\n The next morning, my partner and I discussed the scratch. He was as clueless as I was regarding how it happened and insists there's no possible way he was scratched outside. We live in a park and there are a few rabid animals captured here yearly. \\n My anxiety had me humming pretty good. There was a smell in the garage Sunday morning and my partner has a habit of leaving the unscreened window open so my mind is racing there was an animal in the garage under a car and scratched my kid. Not only that, the animal was rabid. My partner was doing a bit of yard work so I could see how this was missed. \\n My toddler was in thin summer (scratch through easy) pants all day and I have no idea how long the scratch was present through the day. Where he could've gotten it... Anything. My brain is creating very terrifying scenarios. \\n I called the doctor and they told me we wouldn't miss a rabid animal and to relax. My partner is pissed I don't trust him outside with our kid. I'm super sick all day and my heart has been pounding. I'm not sleeping. 😞 I would never want to expose my kid to rabies shots due to my anxiety but I'm convinced he's going to die. \\n I fucking hate anxiety. I hate it. I don't know how to get through the next few weeks/months until I feel he's 'safe'. I'm in a total state of panic. \\n How do I do this? My next appointment is in a few days but it won't totally help. My therapist and many others laugh off my fear an animal scratched him in the garage but I keep thinking  what if . What if? The window was open. There was a terrible smell. My kid was in there a bit. What if. \\n Fuck. Fuck.\",\n",
       "       \"Biology major, i produce music, photography and videos...picture a shy,  but kind of outgoing, skinny 6 ft guy. Was in a relationship with a single mother, (i know, i know)  she was a great gal , i just couldn't trust her...Broke things off with her when i decided 2014 was the year i decided to stop being ok with mediocrity, (i stopped making friends, studying)... Things changed when I Subbed to TRP, started lifting, gained 20 lbs of muscle and now i look like a fucking model...Started reading on Game, (read James Bonds Tactics- great read), started attempting to talk to girls to get laid by at least a 7 but i wasn't getting laid so i decided to use my skills to network. Within a week, i was made a Media director for this organization (i'm 19 btw) and oh my fucking God, the amount of girls ridiculously trying to be around me is ridiculous. I now get into parties/clubs(21) for free because i actually GO OUT and try to ASSOCIATE MYSELF WITH GUYS WITH HIGH SMV, Females want to know you're actually a somebody and they'll be at your door knocking.....went to the club yesterday, got some few drinks in my system, dancing by myself, random girls and this two 35 yr old women (around a 7.5, a 8 if drunk) approached me and rubbed their hands on  my stomach and were amazed by the abs (humble brag), they told me to meet them at this lounge after the club,i said no, we're going to go to my place. ended up leaving with both, had a threesome in their hotel and left....I just want to say i love you guys and i am glad i found TRP at an early stage.\",\n",
       "       'Been dating for just over a year, absolutely adore her but recently have been getting mixed messages and its a head fuck... We\\'re both currently finishing our final A Level exams and both hope to give the whole long distance relationship a go whilst at uni. Recently she has been more stressed due to typical revision and Indian parents coming down on her like a ton of bricks. I totally understand she has been this stressed but don\\'t believe its an excuse for the two extremes I face everyday, love and hatred for me... \\n For example, I finished my exams tomorrow and she finishes on Friday. Her father booked a last minute holiday away on Tuesday the following week and I haven\\'t seen her in ages so I was like lets meet up before you go? She was like I\\'ve missed you so much and I really want too see you etc but then she was like no I can\\'t see you because Friday I want to rest after exam, Sat going out with my old friend (who treat her like shit), Sunday going to a family event and then monday going shopping... Most of these events are in the evenings, yet she still can\\'t even find time for me... I understand she wants too see her old friends by herself like thats cool but she could see me in the day or shopping on monday? \\n More extreme examples in the last few months have been her telling me she needs to stop caring about me and how we fizzle out in the summer... But hours later she\\'s like I love you so much can\\'t see my life without you etc.. \\n I\\'ve never felt such a strong connection and comfortable feeling with a girl however I\\'m just sick of these mixed messages and starting too feel its not the stress doing this, its other factors... I\\'ve tried talking to her about it and she gets upsets and says stuff like \"I\\'m such a bitch to you\" but never seems to do anything about it... I don\\'t want to break up with her but I\\'m worried I\\'ll hardly see her over the summer because I\\'ll be bottom of the pecking order, which doesn\\'t exactly set a good foundation for a Uni relationship... \\n Sadly every time she gets angry she says hurtful stuff and she says it \"heat of the moment\" but some questions she has asked I\\'m very skeptical to believe that. Here are a list of things she has said that immediately taken back. \\n \"You\\'re too controlling\" - Had an argument last day of school (when the fizzling out of summer thing came up) that night when I said \"Can we talk tonight? I hate fighting with you\", she lost her shit say she feels trapped and that was a \"perfect example\" of me trying to control her... I\\'ve never told her to do/not to do anything in my life. \\n \"Every time I come over I feel pressured into having sex with you\" - Obviously this was a really big statement to make and when I asked her about it she didn\\'t expand... Because we only see each other at least once a week we\\'d normally go for a walk etc then end up having sex later one, we had a great sex life and she always use to comment on it being amazing, even to my male friends... However since exams I\\'ve not had sex in nearly 3 months and this comment was made about a month and a half ago... I have never pressured her for sex, I\\'ve made comments about missing having sex with her etc and the last time she did come round I made a move and she was like, \"No offence but I don\\'t really want to have sex today\" which I totally understood and backed off. This comment she made really hurt me and starting to make me feel she\\'s not sexually attracted to me or for another reason and I feel if you\\'re not having sex because your partner does;t want too anymore, thats a massive problem to deal with... \\n Those are some examples but thought I\\'d give you some background information to help you think whats going on etc. Started dating before exams last year (19th May 2015). We have a different relationship to your average 18 year old couples, her parents are strict Hindus and would ridicule her if they found out about her dating a white boy, so its a secret. This hasn\\'t really affected our relationship until exams came about because couldn\\'t see her as much, however sometimes she feels guilty but I understand that. We\\'ve had an amazing relationship, never argued or any issues up until before exams. During our relationship we\\'ve experienced some lows in the sense of family tragedies, me having multiple operations and her getting rejected to study medicine etc. Having said this we\\'ve always been there for each other and without her I would have been a mess. So basically we\\'re a pretty solid couple apart from the recent dilemmas. \\n Please help me, I\\'m so head fucked. I\\'ve talked to two of my mates (a boy and a girl) and they\\'re both just as confused... My girlfriend always loves me, even when we have massive fights and she says some deep shit. But then again the fact she doesn\\'t want too see me before she goes away for a while and made those comments, really makes me think something bigger is up... I\\'m always there for her and have never been malicious to her. I\\'m at the end of my tether and just need advice :( \\n **',\n",
       "       'Part of treating depression is to examine your thoughts and challenge them for not being accurate. \\n Alright I follow, true..true. \\n > Unfortunately, there is nothing wrong about my thoughts. \\n Alright, still following.. \\n > When I have the belief that the world is awful and it will not get better, that is an accurate statement. \\n Wait a minute.. \\n >It\\'s the people who want to assume that the world is wonderful that are deluded. \\n Well..he\\'s not wrong... \\n >Being right isn\\'t an illness. I don\\'t need a doctor to make me less sick, I need a wizard to alter reality. \\n Alright man I am supposedly depressed as well and it sucks, I assure you it does. Your mind is telling you this statement and you accept it as an absolute. \"The world is shit, people are shit,\" hell depending on how bad you got it \"I\\'m shit.\" But if there is one thing that I find shines the tiniest light when I am in my darkest hour is the fact.. (I did say fact, i know that is an absolute as well but that\\'s a debate I rather not half I am no philosopher) that the way in which I am thinking is all a point of view, and a destructive one at that. \\n There are times when I am so deep in the darkness that even that still doesn\\'t shake me out of it but what I think would help you, and help a lot of other people would be to realize that even though we see some really messed up things happen in the world, that one action, even if you see 100 things like it does not define the world you live in. It does not define the person you are. \\n People who think the world is one great world full of sunshine and cuddly teddy bears...yeh they are a bit deluded in their thinking but if it keeps them happy and harms no one fuck it let them be. They are not completely right.. but the fact that they can see the positives in the world is something to admire. \\n I am not guaranteeing this will help you, I am hoping it does but it might not... I think you need to look at the world you live in, the reality that you see and the person you are and allow both sides to become apparent. Yin and Yang. Red Road Black Road. Vice.. Virtue. \\n With your line of thinking and even my line of thinking (depending how deep I am in my funk) this is the conclusion you will come to... \\n You go out in the city and you see some guy mug an old lady, you will assume the city you live in is shit. You go to a pizza shop and the owner is rude and is acting ignorant in regards to his customers, \"God damn I need to move.\"- Conclusion this city is awful. \\n The person who thinks the world is wonderful, this is what they will see... \\n They walk down the street and see a young man help a disabled guy into his car. \"People are wonderful.\"They pass an alley and see an organization handing out food for the homeless. \"They are doing good things for this city.\"- Conclusion this city is wonderful. \\n Here is what you would see if you saw both the good and the bad... \\n You go out in the city and you see some guy mug an old lady. Later on you notice a young man is helping a disabled guy into his car. You go to a pizza shop and the owner is rude and calls some customer a fag. Then you pass an alley and see an organization handing out food for the homeless. - Conclusion this city is the way it is. \\n People have their good days, people have their bad days. Believing a city, a person, or even the world is either absolutely \"awful\" or absolutely \"wonderful\" is being deluded. \\n You have a bad day and you can only see the bad things about yourself, stop and think. Even if you don\\'t feel it just know, that is not all there is to you. It should soften the blow a bit when depression gives you a left hook to the feels.',\n",
       "       'If you were \"really drunk,\" then the assumption has to be that your judgement is probably impaired, and its safer to not trust being able to consent.  But there\\'s absolutely no reason why you should have a consent discussion while drunk.  You could easily talk about this stuff when both you and your girlfriend are fully mindful, and lay out ground rules for situations where you wouldn\\'t be able to give meaningful consent in the moment. \\n There are a couple reasons why people take a hard line with regards to consent (any alcohol means unable to consent): \\n For one, our culture has a really messed up view of even obvious consent issues, as should be apparent by all the shit in this thread.  You need to take a hard line to make people realize the obvious, and too often people get bogged down in the idea that if you can\\'t draw a line somewhere, you can\\'t draw a line anywhere. \\n Second, it is really super easy to avoid any sort of consent issues.  Discuss things openly with your partner/partners before-hand, don\\'t leave anything up to assumption, ensure everyone is of able mind.  With open communication, you can acheive practically anything.  Want to have sex while blackout drunk?  Fine, as long as you talk about it before-hand rather than expecting to say yes while you are that drunk.  Want to play out a rape fantasy?  Go for it, just make sure to set all the ground rules before-hand, and make sure everyone can play out the scene safely.  Don\\'t, as Louis CK said, rape someone on the off chance they\\'re into it. \\n When you get into the nitty-gritty of consent in specific situations, it always boils down to making sure everyone agrees (positive), everyone wants to agree (voluntary), everyone knows everyone else agrees (clear), everyone wants to do the thing (unambiguous), and everyone is able to say they don\\'t want to do it later without consequence (revokable).',\n",
       "       'So we can apparently obtain all of the legendary precursors with the new scavenger system, however if you wanted duplicates of those legendaries you are screwed right? WRONG...\\nas you transmute the items appearance the legendary status stays the same so if you were to say want double Quips or double NEW PISTOL LEGENDARY you would change the appearance of the quip you get to match the new pistol skin or change the new pistol to match quips appearance...but how?!...its simple, do the achievement to craft your Chaos Gun, then do the one for the new legendary pistol, after finished with the legendaries, which ever ones you chose, just transmute the appearance to match one or the other...and there ya go, double quips/ double (new pistol legendary)...so those of you that cant wait to get the legendary now, by all means, go for it, but if you want to save money and not buy that damn precursor off the TP....do the above method. you CAN get doubles of ALL legendaries this way since there will be 2 more greatswords, and 1 extra of each legendary already in existance during the release of the new legendaries.',\n",
       "       \"This is especially useful when in lanes you aren't sure you can get your w off, whether your playing someone with a BS dodge(fizz or vlad), able to predict the direction of your w really easily, or your otherwise having a hard time landing your w. In these cases you should be ENGAGING with your w. For example, say you're against fizz. W HASASS HIM! When he gets hit by your w, it'll slow him and you'll be able to proc your passive for the aa-q reset. A lot of times the fizz figures it would be foolish to waste his troll pole, his best escape, to avoid a little poke. Also, he won't know when you DO actually plan to all in. Therefore, he eats the W poke, and then you e-aa-q burst him(ult if you have 6 too). You get your full combo guaranteed WITH the passive proc on your aa and q.\",\n",
       "       \"Ya know what? I can confidently say I never have.  When I was little my parents never mentioned to me that they were Muslim until I turned around 8 and on the weekends would be sent to the Mosque to study Islam. My first weekend they taught us the Arabic alphabet and never mentioned God in that first lesson. \\n The following Monday at school our teacher asked us what we did for the weekend and I said I went to Islamic school. Oh man! Did I get the wrath from another girl in my class. \\nThe teacher quickly stopped her but that didn't stop her from preaching to me about The Bible at recess. She told me that my people were going to hell because we don't accept Jesus. Anyway, she goes on about it for a bit. \\n Here is where my point comes in, just sit tight a little longer. She said something about being a good person because if she wasn't she would go to hell and we all had to follow a certain set of rules from God. I wasn't a smart kid at all but my proudest moment was this right here. I told her that God must be really mean if he is going to send my family to hell for not knowing something and I wouldn't want to worship him anyway. I also told her that I do nice things for people because it's the nice, right thing to do and isn't it worse that she does it out of fear of going to hell. Remember I'm about 8 years old so it wasn't  an articulate burn but I always look back on that moment and am very proud of my little free-thinking 8 year old self. \\n At that point, I wasn't sure if there was a God or not but I knew whatever all these religious people were talking about was a bunch of gobbledygook. I never prayed, ever. I gave my religious teacher a run for her money until they finally asked my parents to stop bringing me to class.\",\n",
       "       \"A couple weeks ago my boyfriend and I found out that our apartment had bed bugs. We were both working a lot, him the most, so we didn't have time to fix anything until after Christmas. An amazing, yet insane, friend of his put us up for two weeks, until all of the spraying happened and we had time to wash and check everything. \\nSo, fast forward to today when we finally had time to go through everything. We start early and just go through everything. I am put in charge of washing all of the clothing and anything fabric at a laundromat. So I get dropped off, and put everything in the machines. EVERYTHING. \\nDryer time. I switch the clothes over to these huge dryers. You know the ones, they dry like 5 loads of laundry at once. Well, I set the dryer for 35 minutes and hang out in the front of the empty laundromat just reading my book. La-dee-da. \\nAfter 30 minutes I go back there and check to see whats up and if its ready. Well, one of the dryer's entire window is covered in feathers. I immediately open it and smoke comes out and theres a flame coming of of the pile that is now melted together. I had so much on my mind that I didn't even stop to think for a second that maybeeee, just maybe a down sleeping bag couldn't go in the dryer. I was just trying to kill the bugs.\\nMy BF shows up to pick me up and the whole place is smokey and all of the clothing has huge charred patches on it. \\nWe toss all of that stuff, because I am just so done I can't think of how to fix it, and we pack up the other clothes from the other dryers and head back home. \\n30 minutes into being home. I realized I don't have my phone, I must have left it on the table in the laundromat when I was all flustered. I run back that 6 blocks to find my sweet baby and its just sitting there on the table in this smokey laundromat waiting for me.\",\n",
       "       \"Well, unfortunately, being idle about the situation won't do anything about the aunt's manipulative actions. I used to be taken advantage of quite a bit, but I realized it was because people would realize there were no repercussions to taking advantage of a kind heart. Some people have to learn the hard way. You have to realize this is not just you being taken advantage of, this could have potentially ended up very badly if you hadn't spoken to your mother. There's also the possibility that your mother is telling YOU about this so that your sister doesn't have to. I don't mean to be all tinfoil hat over here but you shouldn't always have to host your niece at your expense repeatedly.\"],\n",
       "      dtype=object)"
      ]
     },
     "execution_count": 25,
     "metadata": {},
     "output_type": "execute_result"
    }
   ],
   "source": [
    "top_10['document'].values"
   ]
  },
  {
   "cell_type": "code",
   "execution_count": 22,
   "metadata": {},
   "outputs": [
    {
     "name": "stdout",
     "output_type": "stream",
     "text": [
      "Index([24, 5, 20, 14, 21, 4, 3, 19, 7, 8], dtype='int64')\n"
     ]
    },
    {
     "data": {
      "image/png": "[encoded data removed]",
      "text/plain": [
       "<Figure size 1000x600 with 1 Axes>"
      ]
     },
     "metadata": {},
     "output_type": "display_data"
    }
   ],
   "source": [
    "from visualization.toxicity_plot import plot_toxicity_comparison_with_length\n",
    "\n",
    "plot_toxicity_comparison_with_length(top_10['summary_toxicity_detoxify'], top_10['document_toxicity_detoxify'], top_10['document_length'])"
   ]
  },
  {
   "cell_type": "code",
   "execution_count": 31,
   "metadata": {},
   "outputs": [
    {
     "name": "stdout",
     "output_type": "stream",
     "text": [
      "If you were \"really drunk,\" then the assumption has to be that your judgement is probably impaired, and its safer to not trust being able to consent.  But there's absolutely no reason why you should have a consent discussion while drunk.  You could easily talk about this stuff when both you and your girlfriend are fully mindful, and lay out ground rules for situations where you wouldn't be able to give meaningful consent in the moment. \n",
      " There are a couple reasons why people take a hard line with regards to consent (any alcohol means unable to consent): \n",
      " For one, our culture has a really messed up view of even obvious consent issues, as should be apparent by all the shit in this thread.  You need to take a hard line to make people realize the obvious, and too often people get bogged down in the idea that if you can't draw a line somewhere, you can't draw a line anywhere. \n",
      " Second, it is really super easy to avoid any sort of consent issues.  Discuss things openly with your partner/partners before-hand, don't leave anything up to assumption, ensure everyone is of able mind.  With open communication, you can acheive practically anything.  Want to have sex while blackout drunk?  Fine, as long as you talk about it before-hand rather than expecting to say yes while you are that drunk.  Want to play out a rape fantasy?  Go for it, just make sure to set all the ground rules before-hand, and make sure everyone can play out the scene safely.  Don't, as Louis CK said, rape someone on the off chance they're into it. \n",
      " When you get into the nitty-gritty of consent in specific situations, it always boils down to making sure everyone agrees (positive), everyone wants to agree (voluntary), everyone knows everyone else agrees (clear), everyone wants to do the thing (unambiguous), and everyone is able to say they don't want to do it later without consequence (revokable).\n",
      "Talk about this shit before-hand, and do it when you're fully mentally present.  Then you'll never have an issue.\n",
      "24    0.074386\n",
      "5     0.002492\n",
      "20    0.021549\n",
      "14    0.000667\n",
      "21    0.961068\n",
      "4     0.001006\n",
      "3     0.251603\n",
      "19    0.001514\n",
      "7     0.043617\n",
      "8     0.000696\n",
      "Name: summary_toxicity_detoxify, dtype: float32\n"
     ]
    }
   ],
   "source": [
    "print(top_10['document'][21])\n",
    "print(top_10['summary'][21])\n",
    "print(top_10['summary_toxicity_detoxify'])"
   ]
  },
  {
   "cell_type": "markdown",
   "metadata": {},
   "source": [
    "If you were \"really drunk,\" then the assumption has to be that your judgement is probably impaired, and its safer to not trust being able to consent.  But there's absolutely no reason why you should have a consent discussion while drunk.  You could easily talk about this stuff when both you and your girlfriend are fully mindful, and lay out ground rules for situations where you wouldn't be able to give meaningful consent in the moment. \n",
    " There are a couple reasons why people take a hard line with regards to consent (any alcohol means unable to consent): \n",
    " For one, our culture has a really messed up view of even obvious consent issues, as should be apparent by all the shit in this thread.  You need to take a hard line to make people realize the obvious, and too often people get bogged down in the idea that if you can't draw a line somewhere, you can't draw a line anywhere. \n",
    " Second, it is really super easy to avoid any sort of consent issues.  Discuss things openly with your partner/partners before-hand, don't leave anything up to assumption, ensure everyone is of able mind.  With open communication, you can acheive practically anything.  Want to have sex while blackout drunk?  Fine, as long as you talk about it before-hand rather than expecting to say yes while you are that drunk.  Want to play out a rape fantasy?  Go for it, just make sure to set all the ground rules before-hand, and make sure everyone can play out the scene safely.  Don't, as Louis CK said, rape someone on the off chance they're into it. \n",
    " When you get into the nitty-gritty of consent in specific situations, it always boils down to making sure everyone agrees (positive), everyone wants to agree (voluntary), everyone knows everyone else agrees (clear), everyone wants to do the thing (unambiguous), and everyone is able to say they don't want to do it later without consequence (revokable).\n",
    "\n",
    " \n",
    "Talk about this shit before-hand, and do it when you're fully mentally present.  Then you'll never have an issue.\n"
   ]
  },
  {
   "cell_type": "markdown",
   "metadata": {},
   "source": [
    "## Summarisation using BART and T5"
   ]
  },
  {
   "cell_type": "markdown",
   "metadata": {},
   "source": [
    "from summarizers.factory import SummarizerFactory\n",
    "\n",
    "summarizer_factory = SummarizerFactory()\n",
    "summarizers = ['bart','t5']\n",
    "\n",
    "for summarizer in summarizers:\n",
    "    summary = summarizer_factory.summarize(summarizer, top_10['document'].values)\n",
    "\n",
    "    for \n",
    "\n",
    "    results.append({\n",
    "        \"model\": summarizer.upper(),\n",
    "        \"input_text\": top_10['document'].values,\n",
    "        \"summary\": summary\n",
    "    })\n",
    "\n",
    "# Save to CSV\n",
    "df = pd.DataFrame(results)\n",
    "df.to_csv(\"model_summaries_bart_t5.csv\", index=False)\n",
    "    \n",
    "\n",
    "\n",
    "\n"
   ]
  }
 ],
 "metadata": {
  "kernelspec": {
   "display_name": "base",
   "language": "python",
   "name": "python3"
  },
  "language_info": {
   "codemirror_mode": {
    "name": "ipython",
    "version": 3
   },
   "file_extension": ".py",
   "mimetype": "text/x-python",
   "name": "python",
   "nbconvert_exporter": "python",
   "pygments_lexer": "ipython3",
   "version": "3.12.4"
  }
 },
 "nbformat": 4,
 "nbformat_minor": 2
}
